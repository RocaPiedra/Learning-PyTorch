{
 "metadata": {
  "language_info": {
   "codemirror_mode": {
    "name": "ipython",
    "version": 3
   },
   "file_extension": ".py",
   "mimetype": "text/x-python",
   "name": "python",
   "nbconvert_exporter": "python",
   "pygments_lexer": "ipython3",
   "version": "3.8.5"
  },
  "orig_nbformat": 2,
  "kernelspec": {
   "name": "python385jvsc74a57bd0994b48333a2b744be57fb6d497088249ffc50a20ddedd556d81929a8bf79180d",
   "display_name": "Python 3.8.5 64-bit ('base': conda)"
  },
  "metadata": {
   "interpreter": {
    "hash": "767d51c1340bd893661ea55ea3124f6de3c7a262a8b4abca0554b478b1e2ff90"
   }
  }
 },
 "nbformat": 4,
 "nbformat_minor": 2,
 "cells": [
  {
   "cell_type": "code",
   "execution_count": 1,
   "metadata": {},
   "outputs": [],
   "source": [
    "import torch\n",
    "import torch.nn as nn\n",
    "import torch.nn.functional as F\n"
   ]
  },
  {
   "cell_type": "code",
   "execution_count": 2,
   "metadata": {},
   "outputs": [
    {
     "output_type": "stream",
     "name": "stdout",
     "text": [
      "Net(\n  (conv1): Conv2d(1, 6, kernel_size=(3, 3), stride=(1, 1))\n  (conv2): Conv2d(6, 16, kernel_size=(3, 3), stride=(1, 1))\n  (fc1): Linear(in_features=576, out_features=120, bias=True)\n  (fc2): Linear(in_features=120, out_features=84, bias=True)\n  (fc3): Linear(in_features=84, out_features=10, bias=True)\n)\n"
     ]
    }
   ],
   "source": [
    "class Net(nn.Module):\n",
    "\n",
    "    def __init__(self):\n",
    "        super(Net, self).__init__()\n",
    "        self.conv1=nn.Conv2d(1,6,3)\n",
    "        self.conv2=nn.Conv2d(6,16,3)\n",
    "\n",
    "        self.fc1=nn.Linear(6*6*16,120)\n",
    "        self.fc2=nn.Linear(120,84)\n",
    "        self.fc3=nn.Linear(84,10)\n",
    "\n",
    "    def forward(self,x):\n",
    "        x = F.max_pool2d(F.relu(self.conv1(x)), (2,2))\n",
    "        x = F.max_pool2d(F.relu(self.conv2(x)), 2)\n",
    "        x = x.view(-1, self.num_flat_features(x))\n",
    "        x = F.relu(self.fc1(x))\n",
    "        x = F.relu(self.fc2(x))\n",
    "        x = self.fc3(x)\n",
    "        return x\n",
    "\n",
    "    def num_flat_features(self, x):\n",
    "        size = x.size()[1:]\n",
    "        num_features = 1\n",
    "        for s in size:\n",
    "            num_features *= s\n",
    "        return num_features\n",
    "\n",
    "net = Net()\n",
    "print(net)\n"
   ]
  },
  {
   "cell_type": "code",
   "execution_count": 3,
   "metadata": {
    "tags": []
   },
   "outputs": [
    {
     "output_type": "stream",
     "name": "stdout",
     "text": [
      "10\nEl array de parámetros de la capa 1 tiene la forma: \n torch.Size([6, 1, 3, 3])\nEl array de parámetros de la capa 2 tiene la forma: \n torch.Size([6])\nEl array de parámetros de la capa 3 tiene la forma: \n torch.Size([16, 6, 3, 3])\nEl array de parámetros de la capa 4 tiene la forma: \n torch.Size([16])\nEl array de parámetros de la capa 5 tiene la forma: \n torch.Size([120, 576])\nEl array de parámetros de la capa 6 tiene la forma: \n torch.Size([120])\nEl array de parámetros de la capa 7 tiene la forma: \n torch.Size([84, 120])\nEl array de parámetros de la capa 8 tiene la forma: \n torch.Size([84])\nEl array de parámetros de la capa 9 tiene la forma: \n torch.Size([10, 84])\nEl array de parámetros de la capa 10 tiene la forma: \n torch.Size([10])\n"
     ]
    }
   ],
   "source": [
    "params = list(net.parameters())\n",
    "print(len(params))\n",
    "for i in range(len(params)):\n",
    "    print(f\"El array de parámetros de la capa {i+1} tiene la forma: \\n {params[i].size()}\")"
   ]
  },
  {
   "cell_type": "code",
   "execution_count": 4,
   "metadata": {},
   "outputs": [
    {
     "output_type": "stream",
     "name": "stdout",
     "text": [
<<<<<<< HEAD
      "tensor([[-0.1288, -0.0524, -0.0632,  0.0221,  0.0745,  0.0821,  0.0994, -0.0049,\n         -0.0538,  0.1248]], grad_fn=<AddmmBackward>)\n"
=======
      "tensor([[-0.0234,  0.0253,  0.0099,  0.1101, -0.0200,  0.1103, -0.0762, -0.0367,\n          0.0344,  0.1045]], grad_fn=<AddmmBackward>)\n"
>>>>>>> 17ccfba9782883ba28e8453016035cf60ac5505f
     ]
    }
   ],
   "source": [
    "input = torch.randn(1,1,32,32)\n",
    "out = net(input)\n",
    "print(out)"
   ]
  },
  {
   "cell_type": "code",
   "execution_count": 5,
   "metadata": {},
   "outputs": [],
   "source": [
    "net.zero_grad()\n",
    "out.backward(torch.randn(1, 10))"
   ]
  },
  {
   "cell_type": "code",
   "execution_count": 6,
   "metadata": {},
   "outputs": [
    {
     "output_type": "stream",
     "name": "stdout",
     "text": [
<<<<<<< HEAD
      "tensor(2.6924, grad_fn=<MseLossBackward>)\n"
=======
      "tensor(0.6581, grad_fn=<MseLossBackward>)\n"
>>>>>>> 17ccfba9782883ba28e8453016035cf60ac5505f
     ]
    }
   ],
   "source": [
    "output = net(input)\n",
    "target = torch.randn(10)\n",
    "target = target.view(1, -1)\n",
    "criterion = nn.MSELoss()\n",
    "\n",
    "loss = criterion(output, target)\n",
    "print (loss)"
   ]
  },
  {
   "cell_type": "code",
<<<<<<< HEAD
   "execution_count": 7,
=======
   "execution_count": 8,
>>>>>>> 17ccfba9782883ba28e8453016035cf60ac5505f
   "metadata": {},
   "outputs": [
    {
     "output_type": "stream",
     "name": "stdout",
     "text": [
<<<<<<< HEAD
      "<MseLossBackward object at 0x7fe99d7a6e20>\n<AddmmBackward object at 0x7fe99d7a6e50>\n<AccumulateGrad object at 0x7fea38424b50>\n"
=======
      "<MseLossBackward object at 0x7f0c73782ee0>\n<AddmmBackward object at 0x7f0c73185f10>\n<AccumulateGrad object at 0x7f0c733fef70>\n"
>>>>>>> 17ccfba9782883ba28e8453016035cf60ac5505f
     ]
    }
   ],
   "source": [
    "print(loss.grad_fn)\n",
    "print(loss.grad_fn.next_functions[0][0])\n",
    "print(loss.grad_fn.next_functions[0][0].next_functions[0][0])\n",
    "\n"
   ]
  },
  {
   "cell_type": "code",
<<<<<<< HEAD
   "execution_count": 8,
=======
   "execution_count": 9,
>>>>>>> 17ccfba9782883ba28e8453016035cf60ac5505f
   "metadata": {},
   "outputs": [
    {
     "output_type": "stream",
     "name": "stdout",
     "text": [
<<<<<<< HEAD
      "conv1.bias.grad before backward\ntensor([0., 0., 0., 0., 0., 0.])\nconv1.bias.grad after backward\ntensor([-0.0155,  0.0065, -0.0205,  0.0091, -0.0042, -0.0009])\n"
=======
      "conv1.bias.grad before backward\ntensor([0., 0., 0., 0., 0., 0.])\nconv1.bias.grad after backward\ntensor([-0.0126,  0.0085, -0.0049, -0.0130, -0.0316,  0.0009])\n"
>>>>>>> 17ccfba9782883ba28e8453016035cf60ac5505f
     ]
    }
   ],
   "source": [
    "net.zero_grad() #cleaning buffers!!!\n",
    "\n",
    "print('conv1.bias.grad before backward')\n",
    "print(net.conv1.bias.grad)\n",
    "\n",
    "loss.backward()\n",
    "\n",
    "print('conv1.bias.grad after backward')\n",
    "print(net.conv1.bias.grad)\n"
   ]
  },
  {
   "cell_type": "code",
<<<<<<< HEAD
   "execution_count": 9,
=======
   "execution_count": 10,
>>>>>>> 17ccfba9782883ba28e8453016035cf60ac5505f
   "metadata": {},
   "outputs": [],
   "source": [
    "learning_rate = 0.01\n",
    "for f in net.parameters():\n",
    "    f.data.sub_(f.grad.data * learning_rate)\n",
    "    "
   ]
  },
  {
   "cell_type": "code",
<<<<<<< HEAD
   "execution_count": 10,
=======
   "execution_count": 11,
>>>>>>> 17ccfba9782883ba28e8453016035cf60ac5505f
   "metadata": {},
   "outputs": [],
   "source": [
    "import torch.optim as optim\n",
    "\n",
    "optimizer = optim.SGD(net.parameters(), lr=0.01)\n",
    "\n",
    "optimizer.zero_grad() #clean buffer gradient\n",
    "output = net(input)\n",
    "loss = criterion(output,target)\n",
    "loss.backward()\n",
    "optimizer.step() #updates the weight function"
   ]
  },
  {
   "cell_type": "code",
   "execution_count": null,
   "metadata": {},
   "outputs": [],
   "source": []
  }
 ]
}
